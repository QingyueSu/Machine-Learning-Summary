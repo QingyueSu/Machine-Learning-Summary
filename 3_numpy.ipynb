{
 "cells": [
  {
   "cell_type": "markdown",
   "metadata": {},
   "source": [
    "# Extending Python: Numpy \n",
    "\n",
    "## Python limits\n",
    "* Python is a good solid general purpose language, but\n",
    "* It lacks many basic tools\n",
    "\n",
    "    * Numerical/vector stuff:  Numpy\n",
    "    * Graphics: Matplotlib\n",
    "    * Database/data processing: Pandas"
   ]
  },
  {
   "cell_type": "markdown",
   "metadata": {
    "collapsed": true
   },
   "source": [
    "# Vectors\n",
    "\n",
    "* What is a vector?\n",
    "* Why do we need them?\n",
    "* Also, matrices, and arrays too\n"
   ]
  },
  {
   "cell_type": "markdown",
   "metadata": {},
   "source": [
    "# Vectors as lists"
   ]
  },
  {
   "cell_type": "code",
   "execution_count": 1,
   "metadata": {},
   "outputs": [
    {
     "name": "stdout",
     "output_type": "stream",
     "text": [
      "<class 'list'>\n",
      "[1, 2.5, 4.5]\n",
      "2.5\n",
      "[1, 2.5]\n",
      "[1, 2.5, 4.5, 1, 2.5, 4.5]\n",
      "8.0\n",
      "-------------------------\n",
      "55\n",
      "<class 'range'>\n"
     ]
    }
   ],
   "source": [
    "# Try a vector of a\n",
    "a = [1, 2.5, 4.5]\n",
    "print(type(a))\n",
    "print(a)\n",
    "print(a[1])\n",
    "print(a[0:2])\n",
    "print(2*a)  # Here means repeats for 2 times rather than do the actual calculation.\n",
    "print(sum(a)) # sum(): the parameter is a list or a range\n",
    "print('-------------------------')\n",
    "b = range(1, 11, 1)\n",
    "print(sum(b))\n",
    "print(type(b))"
   ]
  },
  {
   "cell_type": "markdown",
   "metadata": {},
   "source": [
    "## Problems\n",
    "\n",
    "* This is ok, but often slow\n",
    "* Does some weird things (2*a)\n",
    "* Does not know many functions (log)\n",
    "* On to numpy\n",
    "\n",
    "## Loading numpy\n",
    "\n",
    "* You first need to load the numpy tools into Python\n",
    "* This is done with **import**\n",
    "* The following loads numpy, and gives it a prefix np"
   ]
  },
  {
   "cell_type": "code",
   "execution_count": 2,
   "metadata": {},
   "outputs": [],
   "source": [
    "import numpy as np"
   ]
  },
  {
   "cell_type": "markdown",
   "metadata": {},
   "source": [
    "## Define a basic numpy vector"
   ]
  },
  {
   "cell_type": "code",
   "execution_count": 3,
   "metadata": {},
   "outputs": [
    {
     "name": "stdout",
     "output_type": "stream",
     "text": [
      "<class 'numpy.ndarray'>\n",
      "[ 0.5   1.    3.5  10.   11.   20.32]\n",
      "1.0\n",
      "[0.5 1. ]\n",
      "[10.   11.   20.32]\n"
     ]
    }
   ],
   "source": [
    "a = np.array([0.5,1,3.5,10.,11,20.32])\n",
    "print(type(a))\n",
    "print(a)\n",
    "print(a[1])\n",
    "print(a[:2]) # slicing is the same as range，including the beginning point while excluding the ending point\n",
    "print(a[3:])"
   ]
  },
  {
   "cell_type": "markdown",
   "metadata": {},
   "source": [
    "## Many useful built in functions\n",
    "* Operate on each element\n",
    "* Do this pretty fast"
   ]
  },
  {
   "cell_type": "code",
   "execution_count": 4,
   "metadata": {},
   "outputs": [
    {
     "name": "stdout",
     "output_type": "stream",
     "text": [
      "46.32\n",
      "[-0.69314718  0.          1.25276297  2.30258509  2.39789527  3.01160562]\n",
      "[0.70710678 1.         1.87082869 3.16227766 3.31662479 4.50777107]\n"
     ]
    }
   ],
   "source": [
    "print(np.sum(a))\n",
    "print(np.log(a))\n",
    "print(np.sqrt(a))"
   ]
  },
  {
   "cell_type": "markdown",
   "metadata": {},
   "source": [
    "# Vectorized notation makes sense"
   ]
  },
  {
   "cell_type": "code",
   "execution_count": 5,
   "metadata": {},
   "outputs": [
    {
     "name": "stdout",
     "output_type": "stream",
     "text": [
      "[ 0.5   1.    3.5  10.   11.   20.32]\n",
      "[ 1.    2.    7.   20.   22.   40.64]\n",
      "[ 2.    3.    8.   21.   23.   41.64]\n",
      "[2.500000e-01 1.000000e+00 1.225000e+01 1.000000e+02 1.210000e+02\n",
      " 4.129024e+02]\n"
     ]
    }
   ],
   "source": [
    "print(a)\n",
    "print(2.*a)\n",
    "print(2.*a + 1.)\n",
    "print(a ** 2)"
   ]
  },
  {
   "cell_type": "markdown",
   "metadata": {},
   "source": [
    "## Initialization functions"
   ]
  },
  {
   "cell_type": "code",
   "execution_count": 6,
   "metadata": {},
   "outputs": [
    {
     "name": "stdout",
     "output_type": "stream",
     "text": [
      "[0. 0. 0. 0. 0. 0. 0. 0. 0. 0. 0. 0. 0. 0. 0. 0. 0. 0. 0. 0. 0. 0. 0. 0.\n",
      " 0. 0. 0. 0. 0. 0. 0. 0. 0. 0. 0. 0. 0. 0. 0. 0. 0. 0. 0. 0. 0. 0. 0. 0.\n",
      " 0. 0. 0. 0. 0. 0. 0. 0. 0. 0. 0. 0. 0. 0. 0. 0. 0. 0. 0. 0. 0. 0. 0. 0.\n",
      " 0. 0. 0. 0. 0. 0. 0. 0. 0. 0. 0. 0. 0. 0. 0. 0. 0. 0. 0. 0. 0. 0. 0. 0.\n",
      " 0. 0. 0. 0.]\n",
      "---------------------------------------------------------------------\n",
      "[1. 1. 1. 1. 1. 1. 1. 1. 1. 1. 1. 1. 1. 1. 1. 1. 1. 1. 1. 1. 1. 1. 1. 1.\n",
      " 1. 1. 1. 1. 1. 1. 1. 1. 1. 1. 1. 1. 1. 1. 1. 1. 1. 1. 1. 1. 1. 1. 1. 1.\n",
      " 1. 1. 1. 1. 1. 1. 1. 1. 1. 1. 1. 1. 1. 1. 1. 1. 1. 1. 1. 1. 1. 1. 1. 1.\n",
      " 1. 1. 1. 1. 1. 1. 1. 1. 1. 1. 1. 1. 1. 1. 1. 1. 1. 1. 1. 1. 1. 1. 1. 1.\n",
      " 1. 1. 1. 1.]\n"
     ]
    }
   ],
   "source": [
    "zvec = np.zeros(100)\n",
    "ovec = np.ones(100)\n",
    "print(zvec)\n",
    "print('---------------------------------------------------------------------')\n",
    "print(ovec)"
   ]
  },
  {
   "cell_type": "markdown",
   "metadata": {},
   "source": [
    "# Moving to more dimensions\n",
    "\n",
    "* Moving to matrices or arrays is pretty easy"
   ]
  },
  {
   "cell_type": "code",
   "execution_count": 7,
   "metadata": {},
   "outputs": [
    {
     "name": "stdout",
     "output_type": "stream",
     "text": [
      "[ 0.5   1.    3.5  10.   11.   20.32]\n",
      "---------------------------------------\n",
      "7.0\n",
      "[ 1.    2.    7.   20.   22.   40.64]\n",
      "[10. 20. 30.]\n",
      "[[20.   22.   40.64]\n",
      " [30.   33.   60.96]]\n"
     ]
    }
   ],
   "source": [
    "print(a)\n",
    "print('---------------------------------------')\n",
    "b = np.array([a,2.*a,3.*a])  # When it is an array, it can do the actual calculation without repearing for n times.\n",
    "print(b[1,2])  # The index in the array is very special, the first number means which row, and the second means which column～\n",
    "# So, how about I want to jump though this value?\n",
    "print(b[1,:])\n",
    "print(b[:,3])\n",
    "print(b[1:,3:])"
   ]
  },
  {
   "cell_type": "markdown",
   "metadata": {},
   "source": [
    "## Functions are clever with multi dimensions\n",
    "* They can go in different directions"
   ]
  },
  {
   "cell_type": "code",
   "execution_count": 8,
   "metadata": {},
   "outputs": [
    {
     "name": "stdout",
     "output_type": "stream",
     "text": [
      "[  3.     6.    21.    60.    66.   121.92]\n",
      "[ 46.32  92.64 138.96]\n",
      "277.91999999999996\n"
     ]
    }
   ],
   "source": [
    "print(b.sum(axis=0)) # sum over rows \n",
    "print(b.sum(axis=1)) # sum over columns\n",
    "print(b.sum()) # all"
   ]
  },
  {
   "cell_type": "code",
   "execution_count": 9,
   "metadata": {},
   "outputs": [
    {
     "name": "stdout",
     "output_type": "stream",
     "text": [
      "[[0. 0.]\n",
      " [0. 0.]]\n"
     ]
    }
   ],
   "source": [
    "# Intializations\n",
    "zmat = np.zeros([2,2])\n",
    "omat = np.ones((2,2))\n",
    "print(zmat)"
   ]
  },
  {
   "cell_type": "markdown",
   "metadata": {},
   "source": [
    "## Array types\n",
    "* Numpy arrays are orderly in terms of size (row lengths the same)\n",
    "* Homogeneous in terms of data types\n",
    "* This allows for big speed improvements\n",
    "* Remember that list can have any entry in each element"
   ]
  },
  {
   "cell_type": "code",
   "execution_count": 10,
   "metadata": {},
   "outputs": [
    {
     "name": "stdout",
     "output_type": "stream",
     "text": [
      "[[3 3 3 3 3]\n",
      " [3 3 3 3 3]\n",
      " [3 3 3 3 3]\n",
      " [3 3 3 3 3]\n",
      " [3 3 3 3 3]]\n",
      "[[False False False False False]\n",
      " [False False False False False]\n",
      " [False False False False False]\n",
      " [False False False False False]\n",
      " [False False False False False]]\n"
     ]
    }
   ],
   "source": [
    "zeroin = 3*np.ones((5,5), dtype='i')\n",
    "boolin = zeroin == 0   # What if the operater not ==？？？How to represent > or <？？\n",
    "print(zeroin)\n",
    "print(boolin)"
   ]
  },
  {
   "cell_type": "markdown",
   "metadata": {},
   "source": [
    "# Random numbers\n",
    "* We will spend a lot of this course looking at computer generated random numbers\n",
    "* Numpy is very good at generating lots of random numbers"
   ]
  },
  {
   "cell_type": "code",
   "execution_count": 11,
   "metadata": {},
   "outputs": [
    {
     "name": "stdout",
     "output_type": "stream",
     "text": [
      "[ 0.66379807 -0.26366298 -1.09646654  1.24233598 -0.24371558  0.48746955\n",
      " -0.71283256  2.1401661   1.53358738 -1.27614891]\n",
      "[ True False False  True False  True False  True  True False]\n"
     ]
    }
   ],
   "source": [
    "# normal random variables\n",
    "x = np.random.standard_normal(10)  # Draw samples from a standard Normal distribution (mean=0, stdev=1)\n",
    "print(x)\n",
    "b = x > 0\n",
    "print(b)"
   ]
  },
  {
   "cell_type": "code",
   "execution_count": 12,
   "metadata": {},
   "outputs": [
    {
     "name": "stdout",
     "output_type": "stream",
     "text": [
      "[4.54431452 3.81335284 0.79306135 1.33636898 3.23467085 3.39745179\n",
      " 3.8689281  0.78736628 3.9762934  4.61023095 4.84451405 4.00168422\n",
      " 2.52671744 0.02685906 1.17047372 1.54314577 3.17438685 1.08258221\n",
      " 1.00431483 3.06678079]\n",
      "---------------------------------------------------------------------\n",
      "[1.68163407 0.53541839 4.70537851 4.68805219 3.59021193 4.45809439\n",
      " 3.50957354 3.24734759 2.00841484 1.39713224 1.47492174 2.13817811\n",
      " 3.99336559 3.58482128 3.86333271 3.13757767 2.61385876 1.64511798\n",
      " 4.41493882 3.59667519 0.060439   4.39898496 0.73650444 2.35069959\n",
      " 1.23710875 0.27146647 2.77057895 3.02336204 4.17633348 1.87996485\n",
      " 0.30450671 4.58244891 2.4158041  2.34004319 4.14133553 4.76502728\n",
      " 3.93670982 3.43114279 2.33018768 4.97351951 1.76324029 1.30669795\n",
      " 3.38211472 0.52756778 3.39384873 3.11400667 0.60799406 3.70518787\n",
      " 2.23339871 1.33521429 0.60016414 1.12190568 0.32852656 2.51828817\n",
      " 4.39456217 3.75563352 0.93402725 4.89508952 2.03802028 4.96815115\n",
      " 2.19906597 3.16592125 1.37845229 4.66971378 0.03886121 0.05871271\n",
      " 2.0614763  1.4293539  2.21097184 2.13137669 2.86396995 2.36256906\n",
      " 4.27104565 2.27040734 3.26136496 0.24418815 0.27633209 0.90731247\n",
      " 2.25784366 4.19442312 1.61041538 1.96682616 3.63636925 0.84798983\n",
      " 1.78737933 0.59196669 4.00469104 0.03759621 0.97639655 2.95627534\n",
      " 1.96298828 3.45394436 2.54164351 3.43633133 3.88867828 0.5479444\n",
      " 1.39842413 1.61773755 4.73429445 2.21271644]\n",
      "---------------------------------------------------------------------\n",
      "[False  True False False False False False False False False False False\n",
      " False False False False False False False False  True False  True False\n",
      " False  True False False False False  True False False False False False\n",
      " False False False False False False False  True False False  True False\n",
      " False False  True False  True False False False  True False False False\n",
      " False False False False  True  True False False False False False False\n",
      " False False False  True  True  True False False False False False  True\n",
      " False  True False  True  True False False False False False False  True\n",
      " False False False False]\n",
      "0.2\n"
     ]
    }
   ],
   "source": [
    "# uniform random variables\n",
    "# note how the routine is called\n",
    "y = np.random.uniform(low=0,high=5,size=20) \n",
    "print(y)\n",
    "# Samples are uniformly distributed over the half-open interval [low, high) (includes low, but excludes high). \n",
    "# In other words, any value within the given interval is equally likely to be drawn by uniform.\n",
    "\n",
    "N = 100 \n",
    "t = np.random.uniform(low=0,high=5,size=N)\n",
    "b = t < 1.  # Since it's array, so the output is true/false，rather than the specific value satisfying t<1\n",
    "print('---------------------------------------------------------------------')\n",
    "print(t)\n",
    "print('---------------------------------------------------------------------')\n",
    "print(b)\n",
    "\n",
    "# How does sum treat booleans?\n",
    "print(np.sum(b)/float(N))"
   ]
  },
  {
   "cell_type": "markdown",
   "metadata": {},
   "source": [
    "## Vectorizing\n",
    "* Notation allows vectored operations\n",
    "* Be a little careful at this"
   ]
  },
  {
   "cell_type": "code",
   "execution_count": 13,
   "metadata": {},
   "outputs": [
    {
     "name": "stdout",
     "output_type": "stream",
     "text": [
      "[0.23431332 0.57261324 0.00504411 0.32216295 0.74269058 0.28778846\n",
      " 0.44922927 0.20396729 0.95182474 0.04858854]\n",
      "[0 1 2 3 4 5 6 7 8 9]\n",
      "---------------------------------------------------------------------\n",
      "[ 1.46862664  3.14522647  3.01008822  4.64432591  6.48538116  6.57557693\n",
      "  7.89845855  8.40793457 10.90364948 10.09717709]\n",
      "[0.         0.57261324 0.01008822 0.96648886 2.97076232 1.43894231\n",
      " 2.69537564 1.427771   7.61459793 0.4372969 ]\n"
     ]
    }
   ],
   "source": [
    "N = 10\n",
    "x = np.random.uniform(low=0,high=1,size=N)\n",
    "# check what arange does\n",
    "y = np.arange(N)\n",
    "print(x)\n",
    "print(y)\n",
    "print('---------------------------------------------------------------------')\n",
    "# line up x and y but make 1. length N\n",
    "z = 2.*x + y + 1.\n",
    "# multiply elements by eachother\n",
    "zz = x*y\n",
    "print(z)\n",
    "print(zz)"
   ]
  },
  {
   "cell_type": "code",
   "execution_count": 15,
   "metadata": {},
   "outputs": [],
   "source": [
    "# what happens when different lengths?\n",
    "#y2 = np.arange(2*N)\n",
    "#z2 = 2.*x + y2 + 1."
   ]
  },
  {
   "cell_type": "markdown",
   "metadata": {},
   "source": [
    "## Some interesting things about boolean vectors\n",
    "* Booleans have some interesting properties\n",
    "* Will be useful to us\n"
   ]
  },
  {
   "cell_type": "code",
   "execution_count": 16,
   "metadata": {},
   "outputs": [
    {
     "name": "stdout",
     "output_type": "stream",
     "text": [
      "[ True False False]\n",
      "0.3333333333333333\n"
     ]
    }
   ],
   "source": [
    "vbool = np.array([True, False, False])\n",
    "print(vbool)\n",
    "print(np.mean(vbool))"
   ]
  },
  {
   "cell_type": "markdown",
   "metadata": {},
   "source": [
    "## Fancy subscripts\n",
    "* Booleans can also let us to useful things to get sub vectors\n",
    "* This will be really useful\n",
    "* Many other vectored/matrix languages can do this too"
   ]
  },
  {
   "cell_type": "code",
   "execution_count": 17,
   "metadata": {},
   "outputs": [
    {
     "name": "stdout",
     "output_type": "stream",
     "text": [
      "[1. 3.]\n",
      "[0.05846048 0.22907226 0.81105388 0.12579169 0.98952304 0.57292456\n",
      " 0.94870342 0.6636032  0.62594541 0.91307308]\n",
      "[0.81105388 0.98952304 0.57292456 0.94870342 0.6636032  0.62594541\n",
      " 0.91307308]\n",
      "0.789260940997343\n"
     ]
    }
   ],
   "source": [
    "vbool = np.array([True, False, True, False])\n",
    "x = np.array([1., 2., 3., 4.])\n",
    "# boolean is able to pull out different entries\n",
    "print(x[vbool])\n",
    "# This is a conditional mean\n",
    "y = np.random.uniform(low=0., high=1.,size=10)\n",
    "print(y)\n",
    "print(y[y>0.5])\n",
    "print(np.mean(y[y>0.5]))"
   ]
  },
  {
   "cell_type": "markdown",
   "metadata": {},
   "source": [
    "## Functions and data types\n",
    "* Python is quite amazing about figuring out what to do inside functions\n",
    "* Data types change what the function does "
   ]
  },
  {
   "cell_type": "code",
   "execution_count": 18,
   "metadata": {},
   "outputs": [
    {
     "name": "stdout",
     "output_type": "stream",
     "text": [
      "[0. 1. 2. 3.]\n",
      "[[0. 1.]\n",
      " [2. 3.]]\n",
      "<class 'int'>\n",
      "<class 'float'>\n",
      "<class 'numpy.ndarray'>\n"
     ]
    }
   ],
   "source": [
    "def f(x):\n",
    "    return 2*x + 1\n",
    "\n",
    "a = np.arange(4.)\n",
    "print(a)\n",
    "amat = np.reshape(a,(2,2))\n",
    "print(amat)\n",
    "print(type(f(1)))\n",
    "print(type(f(1.)))\n",
    "print(type(f(amat)))"
   ]
  },
  {
   "cell_type": "markdown",
   "metadata": {
    "collapsed": true
   },
   "source": [
    "# Some tricky things about Python and memory\n",
    "* Be very careful with this\n",
    "* It can be confusing\n",
    "\n"
   ]
  },
  {
   "cell_type": "code",
   "execution_count": 19,
   "metadata": {},
   "outputs": [
    {
     "name": "stdout",
     "output_type": "stream",
     "text": [
      "[0 1 2 3 4 5 6 7 8 9]\n",
      "[  0   1   2 -99   4   5   6   7   8   9]\n"
     ]
    }
   ],
   "source": [
    "a = np.arange(10)\n",
    "b = a\n",
    "print(a) # 这里很tricky\n",
    "b[3]=-99\n",
    "print(a)"
   ]
  },
  {
   "cell_type": "markdown",
   "metadata": {},
   "source": [
    "* b is the same as a\n",
    "* They are talking about the same thing\n",
    "* To create a new copy, use the copy function"
   ]
  },
  {
   "cell_type": "code",
   "execution_count": 20,
   "metadata": {},
   "outputs": [
    {
     "name": "stdout",
     "output_type": "stream",
     "text": [
      "[0 1 2 3 4 5 6 7 8 9]\n",
      "[  0   1   2 -99   4   5   6   7   8   9]\n"
     ]
    }
   ],
   "source": [
    "a = np.arange(10)\n",
    "b = a.copy()\n",
    "b[3]=-99\n",
    "print(a)\n",
    "print(b)\n"
   ]
  },
  {
   "cell_type": "markdown",
   "metadata": {},
   "source": [
    "## Now it gets even trickier"
   ]
  },
  {
   "cell_type": "code",
   "execution_count": 21,
   "metadata": {},
   "outputs": [
    {
     "name": "stdout",
     "output_type": "stream",
     "text": [
      "[  0   1   2   3 -99   5   6   7   8   9]\n",
      "[  0   1   2 -11 -11   5   6   7   8   9]\n"
     ]
    }
   ],
   "source": [
    "a = np.arange(10)\n",
    "b = a[3:5]\n",
    "#b = a[3:5].copy()  #This is different! you copy it, so don't follow the reference rules.\n",
    "b[1] = -99.\n",
    "print(a)\n",
    "b[0:2] = -11*np.ones(2)\n",
    "print(a)\n",
    "\n",
    "# a = [0 1 2 3 4 5 6 7 8 9]\n",
    "# b = [      x x          ]\n"
   ]
  },
  {
   "cell_type": "markdown",
   "metadata": {
    "collapsed": true
   },
   "source": [
    "# Summary\n",
    "* This is a brief introduction to numpy\n",
    "* More info in text, **and** on website docs\n",
    "* It is very necessary for us, and it does a lot"
   ]
  },
  {
   "cell_type": "code",
   "execution_count": null,
   "metadata": {},
   "outputs": [],
   "source": []
  }
 ],
 "metadata": {
  "anaconda-cloud": {},
  "kernelspec": {
   "display_name": "Python 3",
   "language": "python",
   "name": "python3"
  },
  "language_info": {
   "codemirror_mode": {
    "name": "ipython",
    "version": 3
   },
   "file_extension": ".py",
   "mimetype": "text/x-python",
   "name": "python",
   "nbconvert_exporter": "python",
   "pygments_lexer": "ipython3",
   "version": "3.8.3"
  }
 },
 "nbformat": 4,
 "nbformat_minor": 1
}
