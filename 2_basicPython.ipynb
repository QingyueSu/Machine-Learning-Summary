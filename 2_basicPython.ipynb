{
 "cells": [
  {
   "cell_type": "markdown",
   "metadata": {
    "nbpresent": {
     "id": "9c661499-502f-4948-9cf7-38c8c8aa49b7"
    },
    "slideshow": {
     "slide_type": "slide"
    }
   },
   "source": [
    "# Python basics\n",
    "\n",
    "### Basic data types"
   ]
  },
  {
   "cell_type": "markdown",
   "metadata": {
    "nbpresent": {
     "id": "f70c8d28-aca6-435e-8557-ff0a6a04473a"
    }
   },
   "source": [
    "## An interactive language!\n",
    "####  Online calculator\n",
    "* Try 1+1\n",
    "* Try 1./2.\n",
    "* Try 1/2\n",
    "* Try 2.*2.\n",
    "* Try 2*2"
   ]
  },
  {
   "cell_type": "code",
   "execution_count": 1,
   "metadata": {
    "nbpresent": {
     "id": "2a4652f2-3d21-4944-88d2-c92b21a3db88"
    }
   },
   "outputs": [
    {
     "data": {
      "text/plain": [
       "0.5714285714285714"
      ]
     },
     "execution_count": 1,
     "metadata": {},
     "output_type": "execute_result"
    }
   ],
   "source": [
    "4./7"
   ]
  },
  {
   "cell_type": "markdown",
   "metadata": {
    "collapsed": true,
    "nbpresent": {
     "id": "ce491027-ede3-4c01-9fc3-890e1f2ec5c6"
    }
   },
   "source": [
    "## Variables and basic types"
   ]
  },
  {
   "cell_type": "code",
   "execution_count": 2,
   "metadata": {
    "nbpresent": {
     "id": "9b48d2a0-27d9-4db5-ace1-100d854055f2"
    }
   },
   "outputs": [
    {
     "name": "stdout",
     "output_type": "stream",
     "text": [
      "<class 'int'>\n",
      "<class 'float'>\n",
      "<class 'float'>\n",
      "<class 'str'>\n",
      "<class 'bool'>\n"
     ]
    }
   ],
   "source": [
    "j = 1\n",
    "print(type(j))\n",
    "x = 2.\n",
    "print(type(x))\n",
    "y = 3.51\n",
    "print(type(y))\n",
    "w = \"hello\"\n",
    "print(type(w))\n",
    "z = True\n",
    "print(type(z))"
   ]
  },
  {
   "cell_type": "markdown",
   "metadata": {
    "nbpresent": {
     "id": "164f1bd8-4454-4344-bc50-b59d4518d85c"
    }
   },
   "source": [
    "## Comments: important"
   ]
  },
  {
   "cell_type": "code",
   "execution_count": 3,
   "metadata": {
    "nbpresent": {
     "id": "ac481aed-0426-4078-974c-b9aa0607c1dc"
    }
   },
   "outputs": [],
   "source": [
    "# An integer\n",
    "j = 1\n",
    "# A float\n",
    "x = 2.\n",
    "y = 3.51\n",
    "# a string\n",
    "w = \"hello\""
   ]
  },
  {
   "cell_type": "code",
   "execution_count": 4,
   "metadata": {},
   "outputs": [
    {
     "name": "stdout",
     "output_type": "stream",
     "text": [
      "1\n"
     ]
    }
   ],
   "source": [
    "print(j)"
   ]
  },
  {
   "cell_type": "code",
   "execution_count": 5,
   "metadata": {
    "nbpresent": {
     "id": "739e2ef4-5109-42b3-b9b1-51a13ba2b3a3"
    }
   },
   "outputs": [
    {
     "name": "stdout",
     "output_type": "stream",
     "text": [
      "2.0\n"
     ]
    }
   ],
   "source": [
    "print(x)"
   ]
  },
  {
   "cell_type": "code",
   "execution_count": 6,
   "metadata": {
    "nbpresent": {
     "id": "60e1e801-5299-4b0f-ada7-43696c1c61ab"
    }
   },
   "outputs": [
    {
     "name": "stdout",
     "output_type": "stream",
     "text": [
      "hello\n"
     ]
    }
   ],
   "source": [
    "print(w)"
   ]
  },
  {
   "cell_type": "markdown",
   "metadata": {},
   "source": [
    "# Math"
   ]
  },
  {
   "cell_type": "code",
   "execution_count": 7,
   "metadata": {},
   "outputs": [
    {
     "name": "stdout",
     "output_type": "stream",
     "text": [
      "11.0\n"
     ]
    }
   ],
   "source": [
    "y = 3.\n",
    "z = 4./x+y**2.\n",
    "print(z)"
   ]
  },
  {
   "cell_type": "markdown",
   "metadata": {
    "collapsed": true
   },
   "source": [
    "## Variable types\n",
    "* Variables have different types\n",
    "\n",
    "```python\n",
    "type(j)\n",
    "type(x)\n",
    "type(w)\n",
    "```"
   ]
  },
  {
   "cell_type": "code",
   "execution_count": 8,
   "metadata": {},
   "outputs": [
    {
     "name": "stdout",
     "output_type": "stream",
     "text": [
      "<class 'int'>\n",
      "<class 'float'>\n",
      "<class 'str'>\n",
      "<class 'float'>\n"
     ]
    }
   ],
   "source": [
    "print(type(j))\n",
    "print(type(x))\n",
    "print(type(w))\n",
    "print(type(z))"
   ]
  },
  {
   "cell_type": "markdown",
   "metadata": {},
   "source": [
    "## Redoing a variable"
   ]
  },
  {
   "cell_type": "code",
   "execution_count": 9,
   "metadata": {},
   "outputs": [
    {
     "name": "stdout",
     "output_type": "stream",
     "text": [
      "3.0\n",
      "<class 'float'>\n",
      "hi there!\n",
      "<class 'str'>\n"
     ]
    }
   ],
   "source": [
    "y = 3.\n",
    "print(y)\n",
    "print(type(y))\n",
    "y = \"hi there!\"\n",
    "print(y)\n",
    "print(type(y))"
   ]
  },
  {
   "cell_type": "markdown",
   "metadata": {
    "collapsed": true
   },
   "source": [
    "## More string stuff\n",
    "* Python is very powerful with strings\n",
    "* Often used in text processing"
   ]
  },
  {
   "cell_type": "code",
   "execution_count": 10,
   "metadata": {},
   "outputs": [
    {
     "name": "stdout",
     "output_type": "stream",
     "text": [
      "Finance with Python is easy!\n",
      "Finance=with=Python=is=easy!\n"
     ]
    }
   ],
   "source": [
    "sentence = \"Finance with Python is easy!\"\n",
    "print(sentence)\n",
    "equalsentence = sentence.replace(' ', '=')\n",
    "print(equalsentence)"
   ]
  },
  {
   "cell_type": "markdown",
   "metadata": {},
   "source": [
    "## Notation\n",
    "* replace is message sent to string object **sentence**\n",
    "* equalsentence is value *returned* from a *function*\n",
    "* Part of objective components\n",
    "* More on this later"
   ]
  },
  {
   "cell_type": "markdown",
   "metadata": {},
   "source": [
    "## Other string functions\n",
    "* count\n",
    "* find\n",
    "* join\n",
    "* split\n",
    "* capitalize"
   ]
  },
  {
   "cell_type": "markdown",
   "metadata": {},
   "source": [
    "## Lists\n",
    "* Convenient sets of multiple things\n",
    "* **Things** can be different"
   ]
  },
  {
   "cell_type": "code",
   "execution_count": 11,
   "metadata": {},
   "outputs": [
    {
     "name": "stdout",
     "output_type": "stream",
     "text": [
      "[1, 2, 3]\n",
      "['cloudy', 'sunny', 'rainy']\n",
      "[1, 2.5, 'cloudy', 'windy']\n"
     ]
    }
   ],
   "source": [
    "a = [1, 2, 3]\n",
    "print(a)\n",
    "b = [\"cloudy\", \"sunny\", \"rainy\"]\n",
    "print(b)\n",
    "c = [1, 2.5, \"cloudy\", \"windy\"]\n",
    "print(c)"
   ]
  },
  {
   "cell_type": "markdown",
   "metadata": {},
   "source": [
    "## Parts of lists\n",
    "* Python indices start with **zero(0)**\n",
    "* This can get tricky/confusing\n",
    "* Many other languages (Matlab, Julia) start from **one(1)**"
   ]
  },
  {
   "cell_type": "code",
   "execution_count": 12,
   "metadata": {},
   "outputs": [
    {
     "name": "stdout",
     "output_type": "stream",
     "text": [
      "1\n",
      "cloudy\n",
      "windy\n"
     ]
    }
   ],
   "source": [
    "print(c[0])\n",
    "print(c[2])\n",
    "print(c[3])"
   ]
  },
  {
   "cell_type": "markdown",
   "metadata": {},
   "source": [
    "## A range of indices\n",
    "* Python can talk about a range of elements in a list\n",
    "* [i:j] will go from i to (j-1) (again confusing)\n",
    "* This is very useful, and we will see more of it"
   ]
  },
  {
   "cell_type": "code",
   "execution_count": 37,
   "metadata": {},
   "outputs": [
    {
     "name": "stdout",
     "output_type": "stream",
     "text": [
      "[1]\n",
      "[1, 2.5]\n",
      "[2.5, 'cloudy', 'windy']\n"
     ]
    }
   ],
   "source": [
    "print(c[0:1]) \n",
    "# This is differnet from c[0]: c[0:1] is a sub-list which splitted from a list, while c[0] is one element from this list\n",
    "print(c[0:2])\n",
    "print(c[1:4])"
   ]
  },
  {
   "cell_type": "markdown",
   "metadata": {},
   "source": [
    "## Some useful list functions\n",
    "* append(x)\n",
    "* len(x)\n",
    "* pop(i)\n",
    "* insert(i,x)"
   ]
  },
  {
   "cell_type": "code",
   "execution_count": 13,
   "metadata": {},
   "outputs": [
    {
     "name": "stdout",
     "output_type": "stream",
     "text": [
      "[10, 9, 'hello', 'goodbye']\n",
      "[10, 9, 'hello', 'goodbye', ('tiktok', 8)]\n",
      "[10, 9, 'hello', 'goodbye', ('tiktok', 8), 7, 'play']\n",
      "[10, 9, 'goodbye', ('tiktok', 8), 7, 'play']\n",
      "hello\n",
      "6\n",
      "[10, 'hi', 9, 'goodbye', ('tiktok', 8), 7, 'play']\n"
     ]
    }
   ],
   "source": [
    "a = [10, 9, \"hello\"]\n",
    "a.append(\"goodbye\")\n",
    "print(a)\n",
    "# a.append(\"tiktok\", 8)     Error: append() takes exactly one argument (2 given)\n",
    "a.append((\"tiktok\", 8))   # Notes: If it is \"expend()\", then they can be added one by one\n",
    "print(a)\n",
    "# a.extend(7, \"play\")   Error: extend() takes exactly one argument (2 given)\n",
    "#a.extend((7, \"play\"))\n",
    "a.extend([7, \"play\"])    # Notes: No matter whether it's list or array？？？There is no extend后面加的与类型无关？？\n",
    "print(a)\n",
    "\n",
    "b = a.pop(2)\n",
    "print(a)\n",
    "print(b)\n",
    "print(len(a))  # Here, what we appended into the list only account for one length, which means that ('tiktok', 8) only one unit.\n",
    "a.insert(1,\"hi\")  # Here means that insert “hi” at the location of 1\n",
    "print(a)"
   ]
  },
  {
   "cell_type": "markdown",
   "metadata": {},
   "source": [
    "=========================================\n",
    "# Control structures\n",
    "* We are taking a little diversion from data\n",
    "* But it is a good time to look at this topic\n"
   ]
  },
  {
   "cell_type": "markdown",
   "metadata": {},
   "source": [
    "## For loop\n",
    "* Repeat task for multiple values\n",
    "* We will use this a lot"
   ]
  },
  {
   "cell_type": "code",
   "execution_count": 14,
   "metadata": {},
   "outputs": [
    {
     "name": "stdout",
     "output_type": "stream",
     "text": [
      "one\n",
      "two\n",
      "three\n",
      "--------\n",
      "one\n",
      "two\n",
      "three\n",
      "--------\n",
      "range(0, 3)\n",
      "3\n"
     ]
    }
   ],
   "source": [
    "# Note the two formats don't matter here\n",
    "a = [\"one\",\"two\",\"three\"]\n",
    "\n",
    "for i in range(len(a)):\n",
    "    print(a[i])\n",
    "\n",
    "print(\"--------\")\n",
    "b = 0\n",
    "for i in range(0,3):\n",
    "    b += i # this means b = b+i\n",
    "    print(a[i])\n",
    "    \n",
    "print(\"--------\")\n",
    "\n",
    "print(range(len(a)))\n",
    "print(b)"
   ]
  },
  {
   "cell_type": "markdown",
   "metadata": {},
   "source": [
    "## Python formating\n",
    "* Note Python automatically indents\n",
    "* Indentation marks where the loop is\n",
    "* Indentation is actually part of the language\n",
    "* This looks good, but can be confusing (some programmers don't like it)\n",
    "* Other languages use begin/end statements"
   ]
  },
  {
   "cell_type": "markdown",
   "metadata": {},
   "source": [
    "## if/else statements"
   ]
  },
  {
   "cell_type": "code",
   "execution_count": 47,
   "metadata": {},
   "outputs": [
    {
     "name": "stdout",
     "output_type": "stream",
     "text": [
      "low 0\n",
      "0\n",
      "low 1\n",
      "1\n",
      "low 2\n",
      "2\n",
      "high 3\n",
      "three 3\n",
      "help\n",
      "3\n",
      "high 4\n",
      "4\n"
     ]
    }
   ],
   "source": [
    "for i in range(0,5):\n",
    "    if i<3 :\n",
    "        print(\"low\",i)\n",
    "    else:\n",
    "        print(\"high\",i)\n",
    "    if i==3:\n",
    "        print(\"three\", i)\n",
    "        print(\"help\")\n",
    "    print(i)\n",
    "\n",
    "# Notes: \n",
    "# You enter into the statement for 3 times:\n",
    "#    1st time: if i<3\n",
    "#    2nd time: else(which means if i>=3): if i==3\n",
    "#    then every time will come to the last step: print(i)"
   ]
  },
  {
   "cell_type": "code",
   "execution_count": 15,
   "metadata": {},
   "outputs": [
    {
     "name": "stdout",
     "output_type": "stream",
     "text": [
      "2\n"
     ]
    }
   ],
   "source": [
    "j = 1\n",
    "resetj = True\n",
    "if resetj:\n",
    "    j = 2\n",
    "print(j)"
   ]
  },
  {
   "cell_type": "markdown",
   "metadata": {},
   "source": [
    "## While loops\n",
    "* Be careful\n",
    "* While loops can put you in an **infinite loop**"
   ]
  },
  {
   "cell_type": "code",
   "execution_count": 16,
   "metadata": {},
   "outputs": [
    {
     "name": "stdout",
     "output_type": "stream",
     "text": [
      "100\n",
      "81\n",
      "64\n",
      "49\n",
      "36\n",
      "25\n",
      "16\n",
      "9\n",
      "4\n",
      "1\n"
     ]
    }
   ],
   "source": [
    "j = 10\n",
    "while j > 0:\n",
    "    print(j**2)\n",
    "    j-=1"
   ]
  },
  {
   "cell_type": "markdown",
   "metadata": {},
   "source": [
    "## Functions\n",
    "* Another way to control your programs\n",
    "* We will do more with the later\n",
    "* They are important in Python\n",
    "* Most of the external tools we use are functions"
   ]
  },
  {
   "cell_type": "code",
   "execution_count": 17,
   "metadata": {},
   "outputs": [
    {
     "name": "stdout",
     "output_type": "stream",
     "text": [
      "3\n",
      "<class 'int'>\n",
      "4.0\n",
      "<class 'float'>\n",
      "100\n"
     ]
    }
   ],
   "source": [
    "y = 100\n",
    "# define a function\n",
    "def f(x):\n",
    "    y = x + 2\n",
    "    return y\n",
    "print(f(1))\n",
    "print(type(f(1)))\n",
    "print(f(2.))\n",
    "print(type(f(2.)))\n",
    "# note how function protects the value of y defined outside\n",
    "print(y)  # No matter what the variable name is in the function，it won't change the value of variables outside of this function.\n"
   ]
  },
  {
   "cell_type": "markdown",
   "metadata": {},
   "source": [
    "## Important notes\n",
    "* Function holds the data type constant (int or float)\n",
    "* See how y defines new variable, y, local to the function different from other y\n",
    "* This is known as **scope** in computer science language\n",
    "* Powerful, but *tricky*"
   ]
  },
  {
   "cell_type": "markdown",
   "metadata": {
    "collapsed": true
   },
   "source": [
    "***\n",
    "# Back to data structures\n",
    "## Dictionaries\n",
    "\n",
    "* Dictionaries are a little like lists\n",
    "* Usually used as key indexed objects\n",
    "* Can be useful in text processing (like word counting)\n",
    "* Sometimes used to complicated data objects\n"
   ]
  },
  {
   "cell_type": "code",
   "execution_count": 18,
   "metadata": {},
   "outputs": [
    {
     "name": "stdout",
     "output_type": "stream",
     "text": [
      "100\n",
      "1\n",
      "dict_keys(['happy', 'sad', 'crazy', 'silly'])\n",
      "dict_values([100, 25, 10, 1])\n",
      "---------------------------------------------\n",
      "happy\n",
      "sad\n",
      "crazy\n",
      "silly\n",
      "---------------------------------------------\n",
      "{'happy': 100, 'sad': 25, 'crazy': 10, 'silly': 1}\n",
      "---------------------------------------------\n",
      "---------------------------------------------\n"
     ]
    }
   ],
   "source": [
    "d = {'happy': 100, 'sad': 25, 'crazy':10, 'silly':1}\n",
    "print(d['happy'])\n",
    "print(d['silly'])\n",
    "print(d.keys())\n",
    "print(d.values())\n",
    "\n",
    "print('---------------------------------------------')\n",
    "\n",
    "for i in d.keys():\n",
    "    print(i)\n",
    "\n",
    "print('---------------------------------------------')\n",
    "print(d)\n",
    "print('---------------------------------------------')\n",
    "\n",
    "#for k,v in d:\n",
    "#    print(k,v)\n",
    "\n",
    "print('---------------------------------------------')\n",
    "\n",
    "#for _ in d:\n",
    " #   print(_)"
   ]
  },
  {
   "cell_type": "code",
   "execution_count": 59,
   "metadata": {},
   "outputs": [
    {
     "name": "stdout",
     "output_type": "stream",
     "text": [
      "[1, 2, 3]\n",
      "rainy\n",
      "1.5\n",
      "['z', 'y', 'x']\n"
     ]
    }
   ],
   "source": [
    "# dictionary values can be anything\n",
    "# keys can be numbers and strings, but must be unique\n",
    "d = {'happy': [1, 2, 3], 'sad': \"rainy\", 'crazy': 1.5, 11:['z','y','x']}\n",
    "print(d['happy'])\n",
    "print(d['sad'])\n",
    "print(d['crazy'])\n",
    "print(d[11])"
   ]
  },
  {
   "cell_type": "markdown",
   "metadata": {},
   "source": [
    "## Sets\n",
    "\n",
    "* Sets are like math sets\n",
    "* Probably wont use these much\n"
   ]
  },
  {
   "cell_type": "code",
   "execution_count": 60,
   "metadata": {},
   "outputs": [
    {
     "name": "stdout",
     "output_type": "stream",
     "text": [
      "{'a', 'c', 'b'}\n",
      "{'a'}\n"
     ]
    }
   ],
   "source": [
    "testSet = set(['a', 'b', 'c', 'c', 'a'])  # No matter how many repetitive items in the list, once you use the set, you get the unique value.\n",
    "print(testSet)\n",
    "testSet2 = set(['a', 'd', 'e'])\n",
    "intersect = testSet.intersection(testSet2)  # If two things' type are both set, we can use intersection to calculate the same items in both of them. \n",
    "print(intersect)"
   ]
  },
  {
   "cell_type": "markdown",
   "metadata": {},
   "source": [
    "## Objects\n",
    "* Important part of Python\n",
    "* Variables can be containers for many things\n",
    "* Methods are kind of like functions targeted to objects\n",
    "* We will not design objects\n",
    "* but we will use them a lot"
   ]
  },
  {
   "cell_type": "code",
   "execution_count": 19,
   "metadata": {},
   "outputs": [
    {
     "name": "stdout",
     "output_type": "stream",
     "text": [
      "100.0\n",
      "450.0\n"
     ]
    }
   ],
   "source": [
    "# This defines the class car\n",
    "# First a special method which sets of the object variables\n",
    "class car:\n",
    "    def __init__(self,maxSpeed,tankSize,milesPerGallon):\n",
    "        self.maxSpeed = maxSpeed\n",
    "        self.tankSize = tankSize\n",
    "        self.milesPerGallon = milesPerGallon\n",
    "# Now a method which applies to the object \n",
    "# When used object itself is mapped to self\n",
    "    def driveRange(self):\n",
    "        return(self.tankSize*self.milesPerGallon)\n",
    "        \n",
    "# Initialize an object\n",
    "myCar = car(100.,15.,30.)\n",
    "# Access an object variable\n",
    "print(myCar.maxSpeed)\n",
    "# Apply method to the object\n",
    "print(myCar.driveRange())"
   ]
  },
  {
   "cell_type": "markdown",
   "metadata": {},
   "source": [
    "***\n",
    "# Summary\n",
    "\n",
    "* These are all the basic data structures in Python\n",
    "* We will need to extend these a bit\n"
   ]
  },
  {
   "cell_type": "code",
   "execution_count": null,
   "metadata": {},
   "outputs": [],
   "source": []
  }
 ],
 "metadata": {
  "anaconda-cloud": {},
  "kernelspec": {
   "display_name": "Python 3",
   "language": "python",
   "name": "python3"
  },
  "language_info": {
   "codemirror_mode": {
    "name": "ipython",
    "version": 3
   },
   "file_extension": ".py",
   "mimetype": "text/x-python",
   "name": "python",
   "nbconvert_exporter": "python",
   "pygments_lexer": "ipython3",
   "version": "3.8.3"
  },
  "nbpresent": {
   "slides": {
    "017abae1-24be-470e-a0b5-0fa0fd3af057": {
     "id": "017abae1-24be-470e-a0b5-0fa0fd3af057",
     "prev": "a820c6e1-cdbc-4493-a07f-b4f08b9aefe7",
     "regions": {
      "2ca6152e-7ef2-4a74-b01f-0fbdbda06963": {
       "attrs": {
        "height": 0.8,
        "width": 0.8,
        "x": 0.1,
        "y": 0.1
       },
       "content": {
        "cell": "ac481aed-0426-4078-974c-b9aa0607c1dc",
        "part": "whole"
       },
       "id": "2ca6152e-7ef2-4a74-b01f-0fbdbda06963"
      }
     }
    },
    "16132ca5-40ba-4beb-9ac2-704030f1cfb9": {
     "id": "16132ca5-40ba-4beb-9ac2-704030f1cfb9",
     "prev": "b8bf1ef7-e38d-489b-aca3-4116a8174626",
     "regions": {
      "f6e86735-f923-4f48-b0ce-2282bf5f2f94": {
       "attrs": {
        "height": 0.8,
        "width": 0.8,
        "x": 0.1,
        "y": 0.1
       },
       "content": {
        "cell": "f7f5edff-ce32-4e0f-bb30-21325a714154",
        "part": "whole"
       },
       "id": "f6e86735-f923-4f48-b0ce-2282bf5f2f94"
      }
     }
    },
    "170d45c9-f1d3-420d-9fa5-6f9003d0a4b4": {
     "id": "170d45c9-f1d3-420d-9fa5-6f9003d0a4b4",
     "prev": "b52b3d4e-7c1c-4d9c-9f9a-81962953b6f3",
     "regions": {
      "bcd97b65-5c8a-4bc6-83d6-af6a634f1d53": {
       "attrs": {
        "height": 0.8,
        "width": 0.8,
        "x": 0.1,
        "y": 0.1
       },
       "content": {
        "cell": "7b48d932-d387-42b5-8159-27f5a6b57439",
        "part": "whole"
       },
       "id": "bcd97b65-5c8a-4bc6-83d6-af6a634f1d53"
      }
     }
    },
    "77374c1f-d757-4445-b289-1385ffb37fbd": {
     "id": "77374c1f-d757-4445-b289-1385ffb37fbd",
     "prev": "fd953606-0807-4be2-8caa-3543608700b9",
     "regions": {
      "7dac063f-f9b8-47f1-b78c-171f7bf08550": {
       "attrs": {
        "height": 0.8,
        "width": 0.8,
        "x": 0.1,
        "y": 0.1
       },
       "content": {
        "cell": "5713754f-ff2e-4109-b787-79a303710aca",
        "part": "whole"
       },
       "id": "7dac063f-f9b8-47f1-b78c-171f7bf08550"
      }
     }
    },
    "7b9ea244-9aec-4df9-aa57-502e3412b0c7": {
     "id": "7b9ea244-9aec-4df9-aa57-502e3412b0c7",
     "prev": "d0d723ca-3997-4011-8869-66c4c01161b8",
     "regions": {
      "2041cb5f-b12a-43ea-9b12-1e4b830dc82a": {
       "attrs": {
        "height": 0.8,
        "width": 0.8,
        "x": 0.1,
        "y": 0.1
       },
       "content": {
        "cell": "60e1e801-5299-4b0f-ada7-43696c1c61ab",
        "part": "whole"
       },
       "id": "2041cb5f-b12a-43ea-9b12-1e4b830dc82a"
      }
     }
    },
    "a820c6e1-cdbc-4493-a07f-b4f08b9aefe7": {
     "id": "a820c6e1-cdbc-4493-a07f-b4f08b9aefe7",
     "prev": "ba5407f3-2788-4c29-a646-4c7ced36a4b3",
     "regions": {
      "78409907-25be-4c70-97f0-64e6eb967533": {
       "attrs": {
        "height": 0.8,
        "width": 0.8,
        "x": 0.1,
        "y": 0.1
       },
       "content": {
        "cell": "164f1bd8-4454-4344-bc50-b59d4518d85c",
        "part": "whole"
       },
       "id": "78409907-25be-4c70-97f0-64e6eb967533"
      }
     }
    },
    "b0046830-0858-4092-8bbe-6ef92857a221": {
     "id": "b0046830-0858-4092-8bbe-6ef92857a221",
     "prev": "7b9ea244-9aec-4df9-aa57-502e3412b0c7",
     "regions": {
      "12e1d8f6-ec91-40c8-8097-cd2ec64bbf64": {
       "attrs": {
        "height": 0.8,
        "width": 0.8,
        "x": 0.1,
        "y": 0.1
       },
       "content": {
        "cell": "7c46b2d1-09ec-4d2c-8518-2c2ca6200298",
        "part": "whole"
       },
       "id": "12e1d8f6-ec91-40c8-8097-cd2ec64bbf64"
      }
     }
    },
    "b52b3d4e-7c1c-4d9c-9f9a-81962953b6f3": {
     "id": "b52b3d4e-7c1c-4d9c-9f9a-81962953b6f3",
     "prev": "77374c1f-d757-4445-b289-1385ffb37fbd",
     "regions": {
      "9e91ad62-0e9a-49e7-a3b4-dda8a0b58490": {
       "attrs": {
        "height": 0.8,
        "width": 0.8,
        "x": 0.1,
        "y": 0.1
       },
       "content": {
        "cell": "b6624bef-cc80-4cd9-9066-23a3c52f2b6f",
        "part": "whole"
       },
       "id": "9e91ad62-0e9a-49e7-a3b4-dda8a0b58490"
      }
     }
    },
    "b86c8f2d-9b82-4677-b1a4-6bdf4783fbb2": {
     "id": "b86c8f2d-9b82-4677-b1a4-6bdf4783fbb2",
     "prev": "fe179707-4752-4212-8ad3-958099e06e7d",
     "regions": {
      "18dc97ac-f2cb-4d5e-b769-6630a29e2168": {
       "attrs": {
        "height": 0.8,
        "width": 0.8,
        "x": 0.1,
        "y": 0.1
       },
       "content": {
        "cell": "2a4652f2-3d21-4944-88d2-c92b21a3db88",
        "part": "whole"
       },
       "id": "18dc97ac-f2cb-4d5e-b769-6630a29e2168"
      }
     }
    },
    "b8bf1ef7-e38d-489b-aca3-4116a8174626": {
     "id": "b8bf1ef7-e38d-489b-aca3-4116a8174626",
     "prev": null,
     "regions": {
      "cf2bda0b-36d4-43fe-9b62-ec6ff164036d": {
       "attrs": {
        "height": 0.8,
        "width": 0.8,
        "x": 0.1,
        "y": 0.1
       },
       "content": {
        "cell": "9c661499-502f-4948-9cf7-38c8c8aa49b7",
        "part": "whole"
       },
       "id": "cf2bda0b-36d4-43fe-9b62-ec6ff164036d"
      }
     }
    },
    "ba5407f3-2788-4c29-a646-4c7ced36a4b3": {
     "id": "ba5407f3-2788-4c29-a646-4c7ced36a4b3",
     "prev": "d6d4a228-6049-4e64-b69a-8cbf6c70d04f",
     "regions": {
      "8e180276-3c6a-446d-9460-b7fe26096ab8": {
       "attrs": {
        "height": 0.8,
        "width": 0.8,
        "x": 0.1,
        "y": 0.1
       },
       "content": {
        "cell": "9b48d2a0-27d9-4db5-ace1-100d854055f2",
        "part": "whole"
       },
       "id": "8e180276-3c6a-446d-9460-b7fe26096ab8"
      }
     }
    },
    "d0d723ca-3997-4011-8869-66c4c01161b8": {
     "id": "d0d723ca-3997-4011-8869-66c4c01161b8",
     "prev": "017abae1-24be-470e-a0b5-0fa0fd3af057",
     "regions": {
      "e0e333db-0afa-4b74-8ce6-49eed40d411b": {
       "attrs": {
        "height": 0.8,
        "width": 0.8,
        "x": 0.1,
        "y": 0.1
       },
       "content": {
        "cell": "739e2ef4-5109-42b3-b9b1-51a13ba2b3a3",
        "part": "whole"
       },
       "id": "e0e333db-0afa-4b74-8ce6-49eed40d411b"
      }
     }
    },
    "d6d4a228-6049-4e64-b69a-8cbf6c70d04f": {
     "id": "d6d4a228-6049-4e64-b69a-8cbf6c70d04f",
     "prev": "b86c8f2d-9b82-4677-b1a4-6bdf4783fbb2",
     "regions": {
      "0606a66f-4594-422b-91cf-5b1a739b03d7": {
       "attrs": {
        "height": 0.8,
        "width": 0.8,
        "x": 0.1,
        "y": 0.1
       },
       "content": {
        "cell": "ce491027-ede3-4c01-9fc3-890e1f2ec5c6",
        "part": "whole"
       },
       "id": "0606a66f-4594-422b-91cf-5b1a739b03d7"
      }
     }
    },
    "fd953606-0807-4be2-8caa-3543608700b9": {
     "id": "fd953606-0807-4be2-8caa-3543608700b9",
     "prev": "16132ca5-40ba-4beb-9ac2-704030f1cfb9",
     "regions": {
      "a49b70bd-fcd9-412b-be49-39fd6fd11bc9": {
       "attrs": {
        "height": 0.8,
        "width": 0.8,
        "x": 0.1,
        "y": 0.1
       },
       "content": {
        "cell": "b7443994-bafc-4a84-9bcb-76aa010e2f77",
        "part": "whole"
       },
       "id": "a49b70bd-fcd9-412b-be49-39fd6fd11bc9"
      }
     }
    },
    "fe179707-4752-4212-8ad3-958099e06e7d": {
     "id": "fe179707-4752-4212-8ad3-958099e06e7d",
     "prev": "170d45c9-f1d3-420d-9fa5-6f9003d0a4b4",
     "regions": {
      "b11ad79e-b04e-46e4-a174-d7701126b183": {
       "attrs": {
        "height": 0.8,
        "width": 0.8,
        "x": 0.1,
        "y": 0.1
       },
       "content": {
        "cell": "f70c8d28-aca6-435e-8557-ff0a6a04473a",
        "part": "whole"
       },
       "id": "b11ad79e-b04e-46e4-a174-d7701126b183"
      }
     }
    }
   },
   "themes": {}
  }
 },
 "nbformat": 4,
 "nbformat_minor": 1
}
