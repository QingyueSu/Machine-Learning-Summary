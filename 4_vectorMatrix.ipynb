{
 "cells": [
  {
   "cell_type": "markdown",
   "metadata": {},
   "source": [
    "# Quick note on matrix dimensions in Python\n",
    "* Vectors and matrices in python are a little weird\n",
    "* A vector is NOT the same as a 1 column or 1 row matrix\n",
    "* This can get tricky/confusing\n",
    "* SciKit learn requires **matrices** as predictor (X) variables\n",
    "* Other languages:\n",
    "    * Same issues in Julia\n",
    "    * Not matlab\n",
    "    * Generally not in R either\n",
    " \n",
    "* Only python has this part(vector this part)!"
   ]
  },
  {
   "cell_type": "code",
   "execution_count": 2,
   "metadata": {},
   "outputs": [
    {
     "name": "stdout",
     "output_type": "stream",
     "text": [
      "(10,)\n",
      "(10, 1)\n",
      "[0. 0. 0. 0. 0. 0. 0. 0. 0. 0.]\n",
      "[[0.]\n",
      " [0.]\n",
      " [0.]\n",
      " [0.]\n",
      " [0.]\n",
      " [0.]\n",
      " [0.]\n",
      " [0.]\n",
      " [0.]\n",
      " [0.]]\n"
     ]
    }
   ],
   "source": [
    "import numpy as np\n",
    "xvec = np.zeros(10) # establish a matrix full of 0\n",
    "xmat = np.zeros(shape=(10,1))\n",
    "#xmat = np.zeros(shape=(1,10))\n",
    "print(xvec.shape)\n",
    "print(xmat.shape)\n",
    "print(xvec)\n",
    "print(xmat)"
   ]
  },
  {
   "cell_type": "markdown",
   "metadata": {},
   "source": [
    "### Converting vectors to matrices"
   ]
  },
  {
   "cell_type": "code",
   "execution_count": 3,
   "metadata": {},
   "outputs": [
    {
     "name": "stdout",
     "output_type": "stream",
     "text": [
      "[0. 0. 0. 0. 0. 0. 0. 0. 0. 0.]\n",
      "------------------------------------------------\n",
      "(10, 1)\n",
      "[[0.]\n",
      " [0.]\n",
      " [0.]\n",
      " [0.]\n",
      " [0.]\n",
      " [0.]\n",
      " [0.]\n",
      " [0.]\n",
      " [0.]\n",
      " [0.]]\n",
      "------------------------------------------------\n",
      "(10, 1)\n",
      "[[0.]\n",
      " [0.]\n",
      " [0.]\n",
      " [0.]\n",
      " [0.]\n",
      " [0.]\n",
      " [0.]\n",
      " [0.]\n",
      " [0.]\n",
      " [0.]]\n"
     ]
    }
   ],
   "source": [
    "# Generate vector of zeros\n",
    "xvec = np.zeros(10)\n",
    "# Twp eqivalent methods to reshape as 10x1 matrices\n",
    "print(xvec)\n",
    "print('------------------------------------------------')\n",
    "\n",
    "xmat1 = xvec[:,np.newaxis] # np.newaxi: actually a kind of pseudo index to create a dimension\n",
    "print(xmat1.shape)\n",
    "print(xmat1)\n",
    "print('------------------------------------------------')\n",
    "\n",
    "xmat2 = np.reshape(xvec,(10,1)) # Here reshape means that transform the first format to the second format\n",
    "print(xmat2.shape)\n",
    "print(xmat2)"
   ]
  },
  {
   "cell_type": "code",
   "execution_count": null,
   "metadata": {},
   "outputs": [],
   "source": []
  },
  {
   "cell_type": "code",
   "execution_count": null,
   "metadata": {},
   "outputs": [],
   "source": []
  }
 ],
 "metadata": {
  "kernelspec": {
   "display_name": "Python 3",
   "language": "python",
   "name": "python3"
  },
  "language_info": {
   "codemirror_mode": {
    "name": "ipython",
    "version": 3
   },
   "file_extension": ".py",
   "mimetype": "text/x-python",
   "name": "python",
   "nbconvert_exporter": "python",
   "pygments_lexer": "ipython3",
   "version": "3.8.3"
  }
 },
 "nbformat": 4,
 "nbformat_minor": 2
}
